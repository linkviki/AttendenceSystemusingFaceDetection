{
 "cells": [
  {
   "cell_type": "code",
   "execution_count": 25,
   "metadata": {},
   "outputs": [],
   "source": [
    "import os\n",
    "import shutil\n",
    "import random\n",
    "from tensorflow.keras.preprocessing.image import ImageDataGenerator, img_to_array, load_img\n",
    "import matplotlib.pyplot as plt\n",
    "import cv2\n"
   ]
  },
  {
   "cell_type": "code",
   "execution_count": 7,
   "metadata": {},
   "outputs": [
    {
     "name": "stdout",
     "output_type": "stream",
     "text": [
      "Augmented images saved to train and test directories.\n"
     ]
    }
   ],
   "source": [
    "def split_and_augment_dataset(input_folder, train_folder, test_folder, test_ratio=0.2, augment_count=5):\n",
    "    \"\"\"\n",
    "    Splits the dataset into training and test sets, augments the images, and saves them to respective folders.\n",
    "    \n",
    "    Parameters:\n",
    "    - input_folder (str): Path to the dataset folder containing subdirectories for each class.\n",
    "    - train_folder (str): Path to the folder where the augmented training dataset will be saved.\n",
    "    - test_folder (str): Path to the folder where the augmented test dataset will be saved.\n",
    "    - test_ratio (float): Proportion of images to use as the test set.\n",
    "    - augment_count (int): Number of augmented images to generate per original image.\n",
    "    \"\"\"\n",
    "    if not os.path.exists(train_folder):\n",
    "        os.makedirs(train_folder)\n",
    "    if not os.path.exists(test_folder):\n",
    "        os.makedirs(test_folder)\n",
    "\n",
    "    # Set up data augmentation\n",
    "    datagen = ImageDataGenerator(\n",
    "        rotation_range=20,\n",
    "        width_shift_range=0.2,\n",
    "        height_shift_range=0.2,\n",
    "        shear_range=0.15,\n",
    "        zoom_range=0.15,\n",
    "        horizontal_flip=True,\n",
    "        fill_mode='nearest'\n",
    "    )\n",
    "\n",
    "    for class_name in os.listdir(input_folder):\n",
    "        class_folder = os.path.join(input_folder, class_name)\n",
    "        if os.path.isdir(class_folder):\n",
    "            images = os.listdir(class_folder)\n",
    "            random.shuffle(images)\n",
    "            \n",
    "            num_test_images = int(len(images) * test_ratio)\n",
    "            test_images = images[:num_test_images]\n",
    "            train_images = images[num_test_images:]\n",
    "\n",
    "            # Create class directories in the train and test folders\n",
    "            train_class_folder = os.path.join(train_folder, class_name)\n",
    "            test_class_folder = os.path.join(test_folder, class_name)\n",
    "            os.makedirs(train_class_folder, exist_ok=True)\n",
    "            os.makedirs(test_class_folder, exist_ok=True)\n",
    "\n",
    "            # Augment and save test images\n",
    "            for img_name in test_images:\n",
    "                img_path = os.path.join(class_folder, img_name)\n",
    "                img = load_img(img_path)\n",
    "                x = img_to_array(img)\n",
    "                x = x.reshape((1,) + x.shape)\n",
    "\n",
    "                # Save original image in the test folder\n",
    "                img.save(os.path.join(test_class_folder, img_name))\n",
    "\n",
    "                # Generate augmented images\n",
    "                i = 0\n",
    "                for batch in datagen.flow(x, batch_size=1, save_to_dir=test_class_folder, save_prefix='aug', save_format='jpeg'):\n",
    "                    i += 1\n",
    "                    if i >= augment_count:\n",
    "                        break\n",
    "\n",
    "            # Augment and save train images\n",
    "            for img_name in train_images:\n",
    "                img_path = os.path.join(class_folder, img_name)\n",
    "                img = load_img(img_path)\n",
    "                x = img_to_array(img)\n",
    "                x = x.reshape((1,) + x.shape)\n",
    "\n",
    "                # Save original image in the train folder\n",
    "                img.save(os.path.join(train_class_folder, img_name))\n",
    "\n",
    "                # Generate augmented images\n",
    "                i = 0\n",
    "                for batch in datagen.flow(x, batch_size=1, save_to_dir=train_class_folder, save_prefix='aug', save_format='jpeg'):\n",
    "                    i += 1\n",
    "                    if i >= augment_count:\n",
    "                        break\n",
    "\n",
    "    print(\"Augmented images saved to train and test directories.\")\n",
    "\n",
    "# Define paths\n",
    "input_folder = 'dataset_frames'  # Path to your dataset folder\n",
    "train_folder = 'train_dataset'  # Path to the training dataset folder\n",
    "test_folder = 'test_dataset'  # Path to the test dataset folder\n",
    "\n",
    "# Call the function to split and augment the dataset\n",
    "split_and_augment_dataset(input_folder, train_folder, test_folder, test_ratio=0.2, augment_count=5)\n"
   ]
  },
  {
   "cell_type": "code",
   "execution_count": 8,
   "metadata": {},
   "outputs": [
    {
     "name": "stdout",
     "output_type": "stream",
     "text": [
      "Found 4558 images belonging to 8 classes.\n",
      "Found 1138 images belonging to 8 classes.\n"
     ]
    }
   ],
   "source": [
    "from tensorflow.keras.preprocessing.image import ImageDataGenerator\n",
    "\n",
    "train_datagen = ImageDataGenerator(rescale=1.0 / 255)\n",
    "test_datagen = ImageDataGenerator(rescale=1.0 / 255)\n",
    "\n",
    "# Load data from the augmented datasets\n",
    "train_generator = train_datagen.flow_from_directory(\n",
    "    train_folder,  # Path to augmented training dataset directory\n",
    "    target_size=(224, 224),  # Resize images\n",
    "    batch_size=32,  # Batch size for training\n",
    "    class_mode='categorical'  # Use categorical labels\n",
    ")\n",
    "\n",
    "test_generator = test_datagen.flow_from_directory(\n",
    "    test_folder,  # Path to augmented test dataset directory\n",
    "    target_size=(224, 224),  # Resize images\n",
    "    batch_size=32,  # Batch size for testing\n",
    "    class_mode='categorical',  # Use categorical labels\n",
    "    shuffle=False  # No need to shuffle for evaluation\n",
    ")\n"
   ]
  },
  {
   "cell_type": "code",
   "execution_count": 10,
   "metadata": {},
   "outputs": [
    {
     "name": "stdout",
     "output_type": "stream",
     "text": [
      "Epoch 1/35\n",
      "\u001b[1m142/142\u001b[0m \u001b[32m━━━━━━━━━━━━━━━━━━━━\u001b[0m\u001b[37m\u001b[0m \u001b[1m432s\u001b[0m 3s/step - accuracy: 0.7356 - loss: 6.0054 - val_accuracy: 0.0902 - val_loss: 188.0824\n",
      "Epoch 2/35\n",
      "\u001b[1m142/142\u001b[0m \u001b[32m━━━━━━━━━━━━━━━━━━━━\u001b[0m\u001b[37m\u001b[0m \u001b[1m3s\u001b[0m 2ms/step - accuracy: 0.9375 - loss: 0.3856 - val_accuracy: 0.0000e+00 - val_loss: 52.5232\n",
      "Epoch 3/35\n",
      "\u001b[1m142/142\u001b[0m \u001b[32m━━━━━━━━━━━━━━━━━━━━\u001b[0m\u001b[37m\u001b[0m \u001b[1m408s\u001b[0m 3s/step - accuracy: 0.9346 - loss: 0.6885 - val_accuracy: 0.1580 - val_loss: 46.9089\n",
      "Epoch 4/35\n",
      "\u001b[1m142/142\u001b[0m \u001b[32m━━━━━━━━━━━━━━━━━━━━\u001b[0m\u001b[37m\u001b[0m \u001b[1m3s\u001b[0m 2ms/step - accuracy: 0.9375 - loss: 0.2783 - val_accuracy: 0.8333 - val_loss: 0.7178\n",
      "Epoch 5/35\n",
      "\u001b[1m142/142\u001b[0m \u001b[32m━━━━━━━━━━━━━━━━━━━━\u001b[0m\u001b[37m\u001b[0m \u001b[1m409s\u001b[0m 3s/step - accuracy: 0.9474 - loss: 0.4748 - val_accuracy: 0.3795 - val_loss: 29.4146\n",
      "Epoch 6/35\n",
      "\u001b[1m142/142\u001b[0m \u001b[32m━━━━━━━━━━━━━━━━━━━━\u001b[0m\u001b[37m\u001b[0m \u001b[1m3s\u001b[0m 2ms/step - accuracy: 0.9375 - loss: 0.8667 - val_accuracy: 0.5556 - val_loss: 2.6055\n",
      "Epoch 7/35\n",
      "\u001b[1m142/142\u001b[0m \u001b[32m━━━━━━━━━━━━━━━━━━━━\u001b[0m\u001b[37m\u001b[0m \u001b[1m407s\u001b[0m 3s/step - accuracy: 0.9566 - loss: 0.6302 - val_accuracy: 0.6357 - val_loss: 23.6598\n"
     ]
    }
   ],
   "source": [
    "from tensorflow.keras.models import Sequential\n",
    "from tensorflow.keras.layers import Conv2D, MaxPooling2D, Flatten, Dense, Dropout, BatchNormalization\n",
    "from tensorflow.keras.callbacks import EarlyStopping\n",
    "\n",
    "# Define a CNN model\n",
    "model = Sequential([\n",
    "    Conv2D(32, (3, 3), activation='relu', input_shape=(224, 224, 3)),\n",
    "    BatchNormalization(),\n",
    "    MaxPooling2D((2, 2)),\n",
    "\n",
    "    Conv2D(64, (3, 3), activation='relu'),\n",
    "    BatchNormalization(),\n",
    "    MaxPooling2D((2, 2)),\n",
    "\n",
    "    Conv2D(128, (3, 3), activation='relu'),\n",
    "    BatchNormalization(),\n",
    "    MaxPooling2D((2, 2)),\n",
    "\n",
    "    Flatten(),\n",
    "    Dense(256, activation='relu'),\n",
    "    Dropout(0.5),\n",
    "    Dense(train_generator.num_classes, activation='softmax')\n",
    "])\n",
    "\n",
    "# Compile the model\n",
    "model.compile(optimizer='adam', loss='categorical_crossentropy', metrics=['accuracy'])\n",
    "\n",
    "# Define early stopping\n",
    "early_stopping = EarlyStopping(monitor='val_loss', patience=3, restore_best_weights=True)\n",
    "\n",
    "# Train the model\n",
    "history = model.fit(\n",
    "    train_generator,\n",
    "    epochs=35,  # Start with a reasonable number of epochs\n",
    "    steps_per_epoch=train_generator.samples // train_generator.batch_size,\n",
    "    validation_data=test_generator,\n",
    "    validation_steps=test_generator.samples // test_generator.batch_size,\n",
    "    callbacks=[early_stopping]\n",
    ")\n"
   ]
  },
  {
   "cell_type": "code",
   "execution_count": 11,
   "metadata": {},
   "outputs": [
    {
     "name": "stdout",
     "output_type": "stream",
     "text": [
      "\u001b[1m35/35\u001b[0m \u001b[32m━━━━━━━━━━━━━━━━━━━━\u001b[0m\u001b[37m\u001b[0m \u001b[1m16s\u001b[0m 448ms/step - accuracy: 0.2261 - loss: 35.6704\n",
      "Test Loss: 47.9523, Test Accuracy: 0.1571\n"
     ]
    }
   ],
   "source": [
    "# Evaluate the model on the test set\n",
    "test_loss, test_accuracy = model.evaluate(test_generator, steps=test_generator.samples // test_generator.batch_size)\n",
    "print(f\"Test Loss: {test_loss:.4f}, Test Accuracy: {test_accuracy:.4f}\")\n"
   ]
  },
  {
   "cell_type": "code",
   "execution_count": 12,
   "metadata": {},
   "outputs": [
    {
     "name": "stderr",
     "output_type": "stream",
     "text": [
      "WARNING:absl:You are saving your model as an HDF5 file via `model.save()` or `keras.saving.save_model(model)`. This file format is considered legacy. We recommend using instead the native Keras format, e.g. `model.save('my_model.keras')` or `keras.saving.save_model(model, 'my_model.keras')`. \n"
     ]
    }
   ],
   "source": [
    "# Savemodel\n",
    "model.save('model2_2.h5')\n"
   ]
  },
  {
   "cell_type": "code",
   "execution_count": 23,
   "metadata": {},
   "outputs": [
    {
     "name": "stdout",
     "output_type": "stream",
     "text": [
      "\u001b[1m1/1\u001b[0m \u001b[32m━━━━━━━━━━━━━━━━━━━━\u001b[0m\u001b[37m\u001b[0m \u001b[1m0s\u001b[0m 48ms/step\n",
      "Predicted class: nagasai, Confidence: 0.99\n"
     ]
    }
   ],
   "source": [
    "import numpy as np\n",
    "from tensorflow.keras.preprocessing import image\n",
    "\n",
    "def predict_image_class(model, img_path, class_labels, confidence_threshold=0.6):\n",
    "    # Load the image\n",
    "    img = image.load_img(img_path, target_size=(224, 224))\n",
    "\n",
    "    # Convert the image to a numpy array\n",
    "    img_array = image.img_to_array(img)\n",
    "\n",
    "    # Expand dimensions to match the input shape of the model\n",
    "    img_array = np.expand_dims(img_array, axis=0)\n",
    "\n",
    "    # Rescale pixel values\n",
    "    img_array /= 255.0\n",
    "\n",
    "    # Make a prediction\n",
    "    predictions = model.predict(img_array)\n",
    "\n",
    "    # Get the maximum predicted probability\n",
    "    max_probability = np.max(predictions)\n",
    "\n",
    "    # Get the index of the highest probability class\n",
    "    predicted_class_index = np.argmax(predictions, axis=1)[0]\n",
    "\n",
    "    # Get the class label\n",
    "    predicted_class_label = class_labels[predicted_class_index]\n",
    "\n",
    "    # Check if the prediction confidence is above the threshold\n",
    "    if max_probability < confidence_threshold:\n",
    "        predicted_class_label = \"unknown\"\n",
    "\n",
    "    print(f\"Predicted class: {predicted_class_label}, Confidence: {max_probability:.2f}\")\n",
    "\n",
    "# Define class labels from the training data\n",
    "class_labels = list(train_generator.class_indices.keys())\n",
    "\n",
    "# Test with a new image\n",
    "img_path = 'testdata\\Screenshot 2024-08-05 191556.png'  # Replace with the path to your image\n",
    "predict_image_class(model, img_path, class_labels, confidence_threshold=0.6)\n"
   ]
  },
  {
   "cell_type": "code",
   "execution_count": 28,
   "metadata": {},
   "outputs": [
    {
     "name": "stdout",
     "output_type": "stream",
     "text": [
      "\u001b[1m1/1\u001b[0m \u001b[32m━━━━━━━━━━━━━━━━━━━━\u001b[0m\u001b[37m\u001b[0m \u001b[1m0s\u001b[0m 216ms/step\n"
     ]
    }
   ],
   "source": [
    "def detect_faces(image_path):\n",
    "    img = cv2.imread(image_path)\n",
    "    gray = cv2.cvtColor(img, cv2.COLOR_BGR2GRAY)\n",
    "\n",
    "    # Load the pre-trained Haar Cascade for face detection\n",
    "    face_cascade = cv2.CascadeClassifier(cv2.data.haarcascades + 'haarcascade_frontalface_default.xml')\n",
    "    \n",
    "    # Detect faces\n",
    "    faces = face_cascade.detectMultiScale(gray, scaleFactor=1.1, minNeighbors=5, minSize=(30, 30))\n",
    "    \n",
    "    return faces\n",
    "\n",
    "def recognize_faces(model, image_path, class_labels, confidence_threshold=0.6):\n",
    "    img = cv2.imread(image_path)\n",
    "    faces = detect_faces(image_path)\n",
    "\n",
    "    for (x, y, w, h) in faces:\n",
    "        face_img = img[y:y+h, x:x+w]\n",
    "        face_img = cv2.resize(face_img, (224, 224))\n",
    "        face_array = image.img_to_array(face_img)\n",
    "        face_array = np.expand_dims(face_array, axis=0) / 255.0\n",
    "\n",
    "        # Predict class\n",
    "        predictions = model.predict(face_array)\n",
    "        max_probability = np.max(predictions)\n",
    "        predicted_class_index = np.argmax(predictions, axis=1)[0]\n",
    "        predicted_class_label = class_labels[predicted_class_index]\n",
    "\n",
    "        # Check confidence\n",
    "        if max_probability < confidence_threshold:\n",
    "            predicted_class_label = \"unknown\"\n",
    "\n",
    "        # Draw rectangle and label on the image\n",
    "        cv2.rectangle(img, (x, y), (x+w, y+h), (255, 0, 0), 2)\n",
    "        cv2.putText(img, predicted_class_label, (x, y-10), cv2.FONT_HERSHEY_SIMPLEX, 0.9, (255, 0, 0), 2)\n",
    "\n",
    "    # Display the image\n",
    "    cv2.imshow('Image', img)\n",
    "    cv2.waitKey(0)\n",
    "    cv2.destroyAllWindows()\n",
    "\n",
    "# Define class labels from the training data\n",
    "class_labels = list(train_generator.class_indices.keys())\n",
    "\n",
    "# Recognize faces in an image\n",
    "image_path = 'testdata\\Screenshot 2024-08-05 191435.png'\n",
    "recognize_faces(model, image_path, class_labels)\n"
   ]
  }
 ],
 "metadata": {
  "kernelspec": {
   "display_name": "base",
   "language": "python",
   "name": "python3"
  },
  "language_info": {
   "codemirror_mode": {
    "name": "ipython",
    "version": 3
   },
   "file_extension": ".py",
   "mimetype": "text/x-python",
   "name": "python",
   "nbconvert_exporter": "python",
   "pygments_lexer": "ipython3",
   "version": "3.11.5"
  }
 },
 "nbformat": 4,
 "nbformat_minor": 2
}
